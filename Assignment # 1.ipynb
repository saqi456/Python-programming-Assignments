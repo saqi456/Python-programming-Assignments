{
 "cells": [
  {
   "cell_type": "code",
   "execution_count": 1,
   "metadata": {},
   "outputs": [
    {
     "name": "stdout",
     "output_type": "stream",
     "text": [
      "Twinkle, Twinkle, little star, \n",
      " \t How I wonder what you are! \n",
      " \t \t Up above the world so high, \n",
      " \t \t Like a diamond in the sky. \n",
      " Twinkle, Twinkle, little star \n",
      " \t How I wonder you are\n"
     ]
    }
   ],
   "source": [
    "a= \"Twinkle, Twinkle, little star,\"\n",
    "b= \"\\n \\t How I wonder what you are!\"\n",
    "c= \"\\n \\t \\t Up above the world so high,\"\n",
    "d= \"\\n \\t \\t Like a diamond in the sky.\"\n",
    "e= \"\\n Twinkle, Twinkle, little star\"\n",
    "f= \"\\n \\t How I wonder you are\"\n",
    "print (a,b,c,d,e,f) "
   ]
  },
  {
   "cell_type": "code",
   "execution_count": 2,
   "metadata": {},
   "outputs": [
    {
     "name": "stdout",
     "output_type": "stream",
     "text": [
      "Python Version\n",
      "3.7.4\n"
     ]
    }
   ],
   "source": [
    "import platform  \n",
    "print(\"Python Version\")\n",
    "print (platform.python_version())"
   ]
  },
  {
   "cell_type": "code",
   "execution_count": 3,
   "metadata": {},
   "outputs": [
    {
     "name": "stdout",
     "output_type": "stream",
     "text": [
      "Current date and time : \n",
      "07-11-19 23:02:58\n"
     ]
    }
   ],
   "source": [
    "import datetime\n",
    "now = datetime.datetime.now()\n",
    "print (\"Current date and time : \")\n",
    "print (now.strftime(\"%d-%m-%y %H:%M:%S\"))"
   ]
  },
  {
   "cell_type": "code",
   "execution_count": 4,
   "metadata": {},
   "outputs": [
    {
     "name": "stdout",
     "output_type": "stream",
     "text": [
      "input the radius of circle:3\n",
      "28.274333882308138\n"
     ]
    }
   ],
   "source": [
    "from math import pi\n",
    "r = float(input(\"input the radius of circle:\"))\n",
    "Area = pi*r**2\n",
    "print(Area)"
   ]
  },
  {
   "cell_type": "code",
   "execution_count": 5,
   "metadata": {},
   "outputs": [
    {
     "name": "stdout",
     "output_type": "stream",
     "text": [
      "Enter your first name:Saqib\n",
      "Enter your last name:Khan\n",
      "Khan Saqib\n"
     ]
    }
   ],
   "source": [
    "First_name = input(\"Enter your first name:\")\n",
    "Last_name = input(\"Enter your last name:\")\n",
    "print(Last_name,First_name)"
   ]
  },
  {
   "cell_type": "code",
   "execution_count": 6,
   "metadata": {},
   "outputs": [
    {
     "name": "stdout",
     "output_type": "stream",
     "text": [
      "Enter value of a10\n",
      "Enter value of b20\n",
      "30\n"
     ]
    }
   ],
   "source": [
    "a = int (input(\"Enter value of a\"))\n",
    "b= int (input(\"Enter value of b\"))\n",
    "c = a+b\n",
    "print(c)"
   ]
  },
  {
   "cell_type": "code",
   "execution_count": null,
   "metadata": {},
   "outputs": [],
   "source": []
  }
 ],
 "metadata": {
  "kernelspec": {
   "display_name": "Python 3",
   "language": "python",
   "name": "python3"
  },
  "language_info": {
   "codemirror_mode": {
    "name": "ipython",
    "version": 3
   },
   "file_extension": ".py",
   "mimetype": "text/x-python",
   "name": "python",
   "nbconvert_exporter": "python",
   "pygments_lexer": "ipython3",
   "version": "3.7.4"
  }
 },
 "nbformat": 4,
 "nbformat_minor": 2
}
