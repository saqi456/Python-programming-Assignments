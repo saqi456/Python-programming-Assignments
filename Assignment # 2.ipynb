{
 "cells": [
  {
   "cell_type": "code",
   "execution_count": 5,
   "metadata": {},
   "outputs": [
    {
     "name": "stdout",
     "output_type": "stream",
     "text": [
      "Enter marks of the first subject: 76\n",
      "Enter marks of the second subject: 87\n",
      "Enter marks of the third subject: 66\n",
      "Enter marks of the fourth subject: 45\n",
      "Enter marks of the fifth subject: 90\n",
      "\n",
      "average score of student is: 63.8\n",
      "\n",
      "Grade: B\n"
     ]
    }
   ],
   "source": [
    "sub1=int(input(\"Enter marks of the first subject: \"))\n",
    "sub2=int(input(\"Enter marks of the second subject: \"))\n",
    "sub3=int(input(\"Enter marks of the third subject: \"))\n",
    "sub4=int(input(\"Enter marks of the fourth subject: \"))\n",
    "sub5=int(input(\"Enter marks of the fifth subject: \"))\n",
    "avg=(sub1+sub2+sub3+sub4+sub4)/5\n",
    "\n",
    "print(\"\\naverage score of student is:\", avg)\n",
    "\n",
    "if(avg>=80):\n",
    "    print(\"\\nGrade: A+\")\n",
    "elif(avg>=70 and avg<80):\n",
    "    print(\"\\nGrade: A\")\n",
    "elif(avg>=60 and avg<70):\n",
    "    print(\"\\nGrade: B\")\n",
    "elif(avg>=50 and avg<60):\n",
    "    print(\"\\nGrade: C\")\n",
    "else:\n",
    "    print(\"\\nGrade: F\")"
   ]
  },
  {
   "cell_type": "code",
   "execution_count": 6,
   "metadata": {},
   "outputs": [
    {
     "name": "stdout",
     "output_type": "stream",
     "text": [
      "Enter any number:5\n",
      "the number u have entered is ODD\n"
     ]
    }
   ],
   "source": [
    "number = int(input(\"Enter any number:\"))\n",
    "num = number % 2\n",
    "\n",
    "if (num>0):\n",
    "    print(\"the number u have entered is ODD\")\n",
    "else:\n",
    " print(\"the number u have entered is EVEN\")"
   ]
  },
  {
   "cell_type": "code",
   "execution_count": 7,
   "metadata": {},
   "outputs": [
    {
     "name": "stdout",
     "output_type": "stream",
     "text": [
      "10\n"
     ]
    }
   ],
   "source": [
    "a=[1,2,3,4,5,6,7,8,9,10]\n",
    "b=len(a)\n",
    "print(b)"
   ]
  },
  {
   "cell_type": "code",
   "execution_count": 8,
   "metadata": {},
   "outputs": [
    {
     "name": "stdout",
     "output_type": "stream",
     "text": [
      "the sum of the list is: 30\n"
     ]
    }
   ],
   "source": [
    "list=[2,4,6,8,10]\n",
    "b=sum(list)\n",
    "print(\"the sum of the list is:\", b)"
   ]
  },
  {
   "cell_type": "code",
   "execution_count": 9,
   "metadata": {},
   "outputs": [
    {
     "name": "stdout",
     "output_type": "stream",
     "text": [
      "the maximum value of the list is: 20\n"
     ]
    }
   ],
   "source": [
    "list=[2,4,6,20,8,10]\n",
    "b=max(list)\n",
    "print(\"the maximum value of the list is:\", b)"
   ]
  },
  {
   "cell_type": "code",
   "execution_count": null,
   "metadata": {},
   "outputs": [],
   "source": []
  }
 ],
 "metadata": {
  "kernelspec": {
   "display_name": "Python 3",
   "language": "python",
   "name": "python3"
  },
  "language_info": {
   "codemirror_mode": {
    "name": "ipython",
    "version": 3
   },
   "file_extension": ".py",
   "mimetype": "text/x-python",
   "name": "python",
   "nbconvert_exporter": "python",
   "pygments_lexer": "ipython3",
   "version": "3.7.4"
  }
 },
 "nbformat": 4,
 "nbformat_minor": 2
}
